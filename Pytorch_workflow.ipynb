{
  "nbformat": 4,
  "nbformat_minor": 0,
  "metadata": {
    "colab": {
      "provenance": []
    },
    "kernelspec": {
      "name": "python3",
      "display_name": "Python 3"
    },
    "language_info": {
      "name": "python"
    }
  },
  "cells": [
    {
      "cell_type": "code",
      "execution_count": 2,
      "metadata": {
        "id": "80Vu6sWGKdOj"
      },
      "outputs": [],
      "source": [
        "import numpy as np\n",
        "import pandas as pd\n",
        "import random\n",
        "import matplotlib.pyplot as plt\n",
        "\n",
        "import torch\n",
        "import torch.nn as nn\n"
      ]
    },
    {
      "cell_type": "code",
      "source": [
        "## A pytorch work flow\n",
        "\n",
        "#1. Get data ready\n",
        "#2. Build or pick a model for training\n",
        "#3. Fit the model to the data and make prediction\n",
        "#4. Evaluate the model\n",
        "#5. Improve through Experiment\n",
        "#6. Save and reload your model "
      ],
      "metadata": {
        "id": "abtCIAUXKnud"
      },
      "execution_count": null,
      "outputs": []
    },
    {
      "cell_type": "code",
      "source": [
        "# Making data\n",
        "start = 0\n",
        "end = 1\n",
        "step = 0.02\n",
        "X = torch. arange(start,end,step)\n",
        "print(X.shape)"
      ],
      "metadata": {
        "colab": {
          "base_uri": "https://localhost:8080/"
        },
        "id": "0DB8T7u9KoUh",
        "outputId": "53fa1415-4e81-4bbc-e65a-8e3166479cf7"
      },
      "execution_count": 3,
      "outputs": [
        {
          "output_type": "stream",
          "name": "stdout",
          "text": [
            "torch.Size([50])\n"
          ]
        }
      ]
    },
    {
      "cell_type": "code",
      "source": [
        "# Creating Answer for data\n",
        "# we are going to find weight and bias using model\n",
        "weigth = 0.7\n",
        "bias = 0.3\n",
        "Y = weigth * X + 0.3\n",
        "print(Y[:10])\n",
        "print(Y.shape)"
      ],
      "metadata": {
        "colab": {
          "base_uri": "https://localhost:8080/"
        },
        "id": "tWzBBhALKoW-",
        "outputId": "26091508-655c-4a47-fb4e-899a0538ccc6"
      },
      "execution_count": 4,
      "outputs": [
        {
          "output_type": "stream",
          "name": "stdout",
          "text": [
            "tensor([0.3000, 0.3140, 0.3280, 0.3420, 0.3560, 0.3700, 0.3840, 0.3980, 0.4120,\n",
            "        0.4260])\n",
            "torch.Size([50])\n"
          ]
        }
      ]
    },
    {
      "cell_type": "code",
      "source": [
        "# Train data, test data split\n",
        "\n",
        "train_split = int(len(X)*0.8)\n",
        "train_x = X[:train_split]\n",
        "train_y = Y[:train_split]\n",
        "test_x = X[train_split:]\n",
        "test_y = Y[train_split:]"
      ],
      "metadata": {
        "id": "K4EugzAwKoZc"
      },
      "execution_count": 8,
      "outputs": []
    },
    {
      "cell_type": "code",
      "source": [
        "print(train_x.shape)\n",
        "nn.Parameter(torch.rand(1,dtype = torch.float)).shape"
      ],
      "metadata": {
        "colab": {
          "base_uri": "https://localhost:8080/"
        },
        "id": "lVizPMwnQloj",
        "outputId": "e9e556b7-6a91-4826-ffd4-d4ba3dd99a1e"
      },
      "execution_count": 11,
      "outputs": [
        {
          "output_type": "stream",
          "name": "stdout",
          "text": [
            "torch.Size([40])\n"
          ]
        },
        {
          "output_type": "execute_result",
          "data": {
            "text/plain": [
              "torch.Size([1])"
            ]
          },
          "metadata": {},
          "execution_count": 11
        }
      ]
    },
    {
      "cell_type": "code",
      "source": [
        "class LinearRegression(nn.Module):\n",
        "\n",
        "    def __init__(self):\n",
        "        super().__init__()\n",
        "        \n",
        "        self.weight = nn.Parameter(torch.randn(1,dtype = torch.float),requires_grad = True)\n",
        "\n",
        "        self.bias = nn.Parameter(torch.randn(1,dtype = torch.float),requires_grad = True)\n",
        "\n",
        "    def forward(self,x):\n",
        "\n",
        "        return self.weight * x + self.bias\n",
        "\n"
      ],
      "metadata": {
        "id": "DYiSUKrLUkbz"
      },
      "execution_count": 47,
      "outputs": []
    },
    {
      "cell_type": "code",
      "source": [
        "model_0 = LinearRegression()"
      ],
      "metadata": {
        "id": "aLgtrxCDTyZI"
      },
      "execution_count": 48,
      "outputs": []
    },
    {
      "cell_type": "code",
      "source": [
        "#Checking the contents of the model \n",
        "\n",
        "print(model_0.state_dict())\n",
        "\n",
        "\n",
        "\n",
        "\n"
      ],
      "metadata": {
        "colab": {
          "base_uri": "https://localhost:8080/"
        },
        "id": "js0k6KCCKogf",
        "outputId": "90bad98b-619d-40f8-9b1d-c404255856de"
      },
      "execution_count": 49,
      "outputs": [
        {
          "output_type": "stream",
          "name": "stdout",
          "text": [
            "OrderedDict([('weight', tensor([0.3367])), ('bias', tensor([0.1288]))])\n"
          ]
        }
      ]
    },
    {
      "cell_type": "code",
      "source": [
        "# Loss function and optimizer \n",
        "loss_fn = nn.L1Loss()\n",
        "optimizer = torch.optim.SGD(params = model_0.parameters(),lr = 0.01)\n"
      ],
      "metadata": {
        "id": "kgf6m46nRnsP"
      },
      "execution_count": 50,
      "outputs": []
    },
    {
      "cell_type": "code",
      "source": [
        "torch.manual_seed(42)\n",
        "epoch = 100\n",
        "\n",
        "train_loss_values = [] \n",
        "test_loss_values = []\n",
        "epoch_count = []\n",
        "\n",
        "\n",
        "\n",
        "for i in range(epoch):\n",
        "\n",
        "    model_0.train()\n",
        "\n",
        "    y_pred = model_0(train_x)\n",
        "\n",
        "    \n",
        "    loss = loss_fn(y_pred,train_y)\n",
        "    \n",
        "    \n",
        "    optimizer.zero_grad()\n",
        "\n",
        "    loss.backward()\n",
        "\n",
        "    optimizer.step()\n",
        "\n",
        "    model_0.eval()\n",
        "\n",
        "    with torch.inference_mode():\n",
        "\n",
        "        test = model_0(test_x)\n",
        "\n",
        "        test_loss = loss_fn(test,test_y)\n",
        "\n",
        "        epoch_count.append(i)\n",
        "\n",
        "        train_loss_values.append(loss.detach().numpy())\n",
        "        test_loss_values.append(test_loss.detach().numpy())\n",
        "        print(f\"Epoch: {i}, Train_loss:{train_loss_values[-1]},Test_loss:{test_loss_values[-1]}\")\n",
        "\n",
        "\n",
        "\n",
        "        \n",
        "\n",
        "\n",
        "        \n",
        "\n",
        "\n",
        "\n",
        "\n",
        "\n",
        "\n",
        "\n",
        "\n"
      ],
      "metadata": {
        "colab": {
          "base_uri": "https://localhost:8080/"
        },
        "id": "nfsXuN4ERnuq",
        "outputId": "e25ba73d-d7dc-4427-ede6-960c1f81e56a"
      },
      "execution_count": 51,
      "outputs": [
        {
          "output_type": "stream",
          "name": "stdout",
          "text": [
            "Epoch: 0, Train_loss:0.31288138031959534,Test_loss:0.48106518387794495\n",
            "Epoch: 1, Train_loss:0.3013603389263153,Test_loss:0.4675942063331604\n",
            "Epoch: 2, Train_loss:0.28983935713768005,Test_loss:0.4541231691837311\n",
            "Epoch: 3, Train_loss:0.2783183455467224,Test_loss:0.44065219163894653\n",
            "Epoch: 4, Train_loss:0.26679736375808716,Test_loss:0.4271811842918396\n",
            "Epoch: 5, Train_loss:0.2552763521671295,Test_loss:0.41371020674705505\n",
            "Epoch: 6, Train_loss:0.24375534057617188,Test_loss:0.40023916959762573\n",
            "Epoch: 7, Train_loss:0.23223432898521423,Test_loss:0.3867681920528412\n",
            "Epoch: 8, Train_loss:0.22071333229541779,Test_loss:0.37329721450805664\n",
            "Epoch: 9, Train_loss:0.20919232070446014,Test_loss:0.3598262071609497\n",
            "Epoch: 10, Train_loss:0.1976713240146637,Test_loss:0.3463551998138428\n",
            "Epoch: 11, Train_loss:0.18615034222602844,Test_loss:0.3328842222690582\n",
            "Epoch: 12, Train_loss:0.1746293306350708,Test_loss:0.3194132149219513\n",
            "Epoch: 13, Train_loss:0.16310831904411316,Test_loss:0.30594223737716675\n",
            "Epoch: 14, Train_loss:0.1515873372554779,Test_loss:0.2924712300300598\n",
            "Epoch: 15, Train_loss:0.14006635546684265,Test_loss:0.27900025248527527\n",
            "Epoch: 16, Train_loss:0.1285453587770462,Test_loss:0.2655292749404907\n",
            "Epoch: 17, Train_loss:0.11702437698841095,Test_loss:0.2520582973957062\n",
            "Epoch: 18, Train_loss:0.1060912236571312,Test_loss:0.2395961582660675\n",
            "Epoch: 19, Train_loss:0.09681284427642822,Test_loss:0.22817862033843994\n",
            "Epoch: 20, Train_loss:0.08908725529909134,Test_loss:0.21729660034179688\n",
            "Epoch: 21, Train_loss:0.08227583020925522,Test_loss:0.2069590985774994\n",
            "Epoch: 22, Train_loss:0.07638873159885406,Test_loss:0.19773726165294647\n",
            "Epoch: 23, Train_loss:0.07160007208585739,Test_loss:0.1890866756439209\n",
            "Epoch: 24, Train_loss:0.06747635453939438,Test_loss:0.18101617693901062\n",
            "Epoch: 25, Train_loss:0.06395438313484192,Test_loss:0.17353470623493195\n",
            "Epoch: 26, Train_loss:0.06097004935145378,Test_loss:0.16665108501911163\n",
            "Epoch: 27, Train_loss:0.05845819041132927,Test_loss:0.16037428379058838\n",
            "Epoch: 28, Train_loss:0.05635259300470352,Test_loss:0.15471318364143372\n",
            "Epoch: 29, Train_loss:0.0545857772231102,Test_loss:0.14967669546604156\n",
            "Epoch: 30, Train_loss:0.053148526698350906,Test_loss:0.14464017748832703\n",
            "Epoch: 31, Train_loss:0.05181945487856865,Test_loss:0.14023718237876892\n",
            "Epoch: 32, Train_loss:0.05069301277399063,Test_loss:0.13647659122943878\n",
            "Epoch: 33, Train_loss:0.0498228520154953,Test_loss:0.13271598517894745\n",
            "Epoch: 34, Train_loss:0.04895269125699997,Test_loss:0.12895536422729492\n",
            "Epoch: 35, Train_loss:0.04819351062178612,Test_loss:0.12584610283374786\n",
            "Epoch: 36, Train_loss:0.047531817108392715,Test_loss:0.12273679673671722\n",
            "Epoch: 37, Train_loss:0.04692792519927025,Test_loss:0.1202877014875412\n",
            "Epoch: 38, Train_loss:0.04642331600189209,Test_loss:0.11783860623836517\n",
            "Epoch: 39, Train_loss:0.04591871052980423,Test_loss:0.11538954079151154\n",
            "Epoch: 40, Train_loss:0.04543796554207802,Test_loss:0.11360953003168106\n",
            "Epoch: 41, Train_loss:0.04503796249628067,Test_loss:0.11182951927185059\n",
            "Epoch: 42, Train_loss:0.04463795945048332,Test_loss:0.1100495308637619\n",
            "Epoch: 43, Train_loss:0.04423796385526657,Test_loss:0.10826952755451202\n",
            "Epoch: 44, Train_loss:0.04383796453475952,Test_loss:0.10648951679468155\n",
            "Epoch: 45, Train_loss:0.04343796148896217,Test_loss:0.10470950603485107\n",
            "Epoch: 46, Train_loss:0.043074630200862885,Test_loss:0.10360751301050186\n",
            "Epoch: 47, Train_loss:0.04272563382983208,Test_loss:0.10250549018383026\n",
            "Epoch: 48, Train_loss:0.04237663000822067,Test_loss:0.10140349715948105\n",
            "Epoch: 49, Train_loss:0.04202762991189957,Test_loss:0.10030148178339005\n",
            "Epoch: 50, Train_loss:0.04167863354086876,Test_loss:0.09919948130846024\n",
            "Epoch: 51, Train_loss:0.04132963344454765,Test_loss:0.09809747338294983\n",
            "Epoch: 52, Train_loss:0.04098063334822655,Test_loss:0.09699545800685883\n",
            "Epoch: 53, Train_loss:0.04063162952661514,Test_loss:0.09589345753192902\n",
            "Epoch: 54, Train_loss:0.040282636880874634,Test_loss:0.0947914719581604\n",
            "Epoch: 55, Train_loss:0.039933640509843826,Test_loss:0.09368947893381119\n",
            "Epoch: 56, Train_loss:0.03958464413881302,Test_loss:0.09258746355772018\n",
            "Epoch: 57, Train_loss:0.03923564404249191,Test_loss:0.09148545563220978\n",
            "Epoch: 58, Train_loss:0.03888664394617081,Test_loss:0.09038344770669937\n",
            "Epoch: 59, Train_loss:0.0385376438498497,Test_loss:0.08928143978118896\n",
            "Epoch: 60, Train_loss:0.03818932920694351,Test_loss:0.08886633068323135\n",
            "Epoch: 61, Train_loss:0.03785243630409241,Test_loss:0.08776430785655975\n",
            "Epoch: 62, Train_loss:0.0375034399330616,Test_loss:0.08666229248046875\n",
            "Epoch: 63, Train_loss:0.037164121866226196,Test_loss:0.08624717593193054\n",
            "Epoch: 64, Train_loss:0.03681822493672371,Test_loss:0.08514519035816193\n",
            "Epoch: 65, Train_loss:0.03647511452436447,Test_loss:0.08473004400730133\n",
            "Epoch: 66, Train_loss:0.03613303601741791,Test_loss:0.08362803608179092\n",
            "Epoch: 67, Train_loss:0.03578609973192215,Test_loss:0.08321291208267212\n",
            "Epoch: 68, Train_loss:0.03544783592224121,Test_loss:0.08211090415716171\n",
            "Epoch: 69, Train_loss:0.035098835825920105,Test_loss:0.0810088962316513\n",
            "Epoch: 70, Train_loss:0.03476089984178543,Test_loss:0.0805937647819519\n",
            "Epoch: 71, Train_loss:0.03441363573074341,Test_loss:0.0794917643070221\n",
            "Epoch: 72, Train_loss:0.03407188132405281,Test_loss:0.07907666265964508\n",
            "Epoch: 73, Train_loss:0.03372843936085701,Test_loss:0.07797462493181229\n",
            "Epoch: 74, Train_loss:0.03338287025690079,Test_loss:0.07755951583385468\n",
            "Epoch: 75, Train_loss:0.033043231815099716,Test_loss:0.07645749300718307\n",
            "Epoch: 76, Train_loss:0.03269423171877861,Test_loss:0.07535548508167267\n",
            "Epoch: 77, Train_loss:0.032357655465602875,Test_loss:0.07494036853313446\n",
            "Epoch: 78, Train_loss:0.03200903534889221,Test_loss:0.07383836805820465\n",
            "Epoch: 79, Train_loss:0.03166864812374115,Test_loss:0.07342323660850525\n",
            "Epoch: 80, Train_loss:0.03132382780313492,Test_loss:0.07232122868299484\n",
            "Epoch: 81, Train_loss:0.030979642644524574,Test_loss:0.07190609723329544\n",
            "Epoch: 82, Train_loss:0.030638623982667923,Test_loss:0.07080408930778503\n",
            "Epoch: 83, Train_loss:0.0302906334400177,Test_loss:0.07038896530866623\n",
            "Epoch: 84, Train_loss:0.029953425750136375,Test_loss:0.06928696483373642\n",
            "Epoch: 85, Train_loss:0.02960442565381527,Test_loss:0.06818496435880661\n",
            "Epoch: 86, Train_loss:0.029265418648719788,Test_loss:0.0677698403596878\n",
            "Epoch: 87, Train_loss:0.028919223695993423,Test_loss:0.0666678324341774\n",
            "Epoch: 88, Train_loss:0.028576409444212914,Test_loss:0.066252700984478\n",
            "Epoch: 89, Train_loss:0.028234025463461876,Test_loss:0.06515069305896759\n",
            "Epoch: 90, Train_loss:0.02788739837706089,Test_loss:0.06473556160926819\n",
            "Epoch: 91, Train_loss:0.02754882536828518,Test_loss:0.06363357603549957\n",
            "Epoch: 92, Train_loss:0.027199819684028625,Test_loss:0.06253156810998917\n",
            "Epoch: 93, Train_loss:0.026862185448408127,Test_loss:0.062116436660289764\n",
            "Epoch: 94, Train_loss:0.02651461586356163,Test_loss:0.061014432460069656\n",
            "Epoch: 95, Train_loss:0.026173178106546402,Test_loss:0.06059930846095085\n",
            "Epoch: 96, Train_loss:0.025829419493675232,Test_loss:0.05949730426073074\n",
            "Epoch: 97, Train_loss:0.02548416517674923,Test_loss:0.05908216908574104\n",
            "Epoch: 98, Train_loss:0.025144213810563087,Test_loss:0.057980168610811234\n",
            "Epoch: 99, Train_loss:0.02479521557688713,Test_loss:0.05687814950942993\n"
          ]
        }
      ]
    },
    {
      "cell_type": "code",
      "source": [
        "# Plot the loss curves\n",
        "plt.plot(epoch_count,train_loss_values, label=\"Train loss\")\n",
        "plt.plot(epoch_count,test_loss_values, label=\"Test loss\")\n",
        "plt.title(\"Training and test loss curves\")\n",
        "plt.ylabel(\"Loss\")\n",
        "plt.xlabel(\"Epochs\")\n",
        "plt.legend();"
      ],
      "metadata": {
        "colab": {
          "base_uri": "https://localhost:8080/",
          "height": 472
        },
        "id": "UInJotVlRn4C",
        "outputId": "b931753c-aba1-4246-a1a1-731589df0e1b"
      },
      "execution_count": 52,
      "outputs": [
        {
          "output_type": "display_data",
          "data": {
            "text/plain": [
              "<Figure size 640x480 with 1 Axes>"
            ],
            "image/png": "[encoded data removed]"
          },
          "metadata": {}
        }
      ]
    },
    {
      "cell_type": "code",
      "source": [
        "# We can see that model parmeters are almost same as what we had set originally \n",
        "model_0.state_dict()\n"
      ],
      "metadata": {
        "colab": {
          "base_uri": "https://localhost:8080/"
        },
        "id": "jU2QPweMRn6h",
        "outputId": "6a700146-d051-48f5-f54a-5b851124a89f"
      },
      "execution_count": 53,
      "outputs": [
        {
          "output_type": "execute_result",
          "data": {
            "text/plain": [
              "OrderedDict([('weight', tensor([0.5784])), ('bias', tensor([0.3513]))])"
            ]
          },
          "metadata": {},
          "execution_count": 53
        }
      ]
    },
    {
      "cell_type": "code",
      "source": [],
      "metadata": {
        "id": "xi6y3CHNRn89"
      },
      "execution_count": null,
      "outputs": []
    },
    {
      "cell_type": "code",
      "source": [],
      "metadata": {
        "id": "AXNfUrJoRn_p"
      },
      "execution_count": null,
      "outputs": []
    }
  ]
}