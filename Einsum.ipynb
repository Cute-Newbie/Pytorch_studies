{
  "nbformat": 4,
  "nbformat_minor": 0,
  "metadata": {
    "colab": {
      "provenance": []
    },
    "kernelspec": {
      "name": "python3",
      "display_name": "Python 3"
    },
    "language_info": {
      "name": "python"
    }
  },
  "cells": [
    {
      "cell_type": "code",
      "execution_count": 1,
      "metadata": {
        "id": "rvbjDqSPoW4W"
      },
      "outputs": [],
      "source": [
        "#Eincsum practice\n",
        "import numpy as np"
      ]
    },
    {
      "cell_type": "code",
      "source": [
        "#Unary Operation"
      ],
      "metadata": {
        "id": "VvF1kTSvomHh"
      },
      "execution_count": null,
      "outputs": []
    },
    {
      "cell_type": "code",
      "source": [
        "#Transpose\n",
        "A = np.array([[1,2,3],\n",
        "              [4,5,6]])\n",
        "\n",
        "R = np.einsum(\"ij->ji\",A)\n",
        "print(R)"
      ],
      "metadata": {
        "colab": {
          "base_uri": "https://localhost:8080/"
        },
        "id": "69H0ca6PoZiZ",
        "outputId": "a20036a8-a40b-4948-8ea8-6e22c57dc203"
      },
      "execution_count": 2,
      "outputs": [
        {
          "output_type": "stream",
          "name": "stdout",
          "text": [
            "[[1 4]\n",
            " [2 5]\n",
            " [3 6]]\n"
          ]
        }
      ]
    },
    {
      "cell_type": "code",
      "source": [
        "#Diagonal,Trace\n",
        "\n",
        "A = np.eye(10)\n",
        "print(A)\n",
        "print()\n",
        "\n",
        "diag = np.einsum(\"ii->i\",A)\n",
        "trace = np.einsum(\"ii->\",A)\n",
        "print(diag)\n",
        "print()\n",
        "print(trace)\n"
      ],
      "metadata": {
        "colab": {
          "base_uri": "https://localhost:8080/"
        },
        "id": "NyWCfz-7oZkw",
        "outputId": "2cc5fa7e-966e-4f2d-b3e4-fac7c5ef7213"
      },
      "execution_count": 3,
      "outputs": [
        {
          "output_type": "stream",
          "name": "stdout",
          "text": [
            "[[1. 0. 0. 0. 0. 0. 0. 0. 0. 0.]\n",
            " [0. 1. 0. 0. 0. 0. 0. 0. 0. 0.]\n",
            " [0. 0. 1. 0. 0. 0. 0. 0. 0. 0.]\n",
            " [0. 0. 0. 1. 0. 0. 0. 0. 0. 0.]\n",
            " [0. 0. 0. 0. 1. 0. 0. 0. 0. 0.]\n",
            " [0. 0. 0. 0. 0. 1. 0. 0. 0. 0.]\n",
            " [0. 0. 0. 0. 0. 0. 1. 0. 0. 0.]\n",
            " [0. 0. 0. 0. 0. 0. 0. 1. 0. 0.]\n",
            " [0. 0. 0. 0. 0. 0. 0. 0. 1. 0.]\n",
            " [0. 0. 0. 0. 0. 0. 0. 0. 0. 1.]]\n",
            "\n",
            "[1. 1. 1. 1. 1. 1. 1. 1. 1. 1.]\n",
            "\n",
            "10.0\n"
          ]
        }
      ]
    },
    {
      "cell_type": "code",
      "source": [
        "#Summation\n",
        "A = np.array([[1,2,3],\n",
        "              [4,5,6]])\n",
        "\n",
        "R = np.einsum(\"ij->\",A)\n",
        "print(R)"
      ],
      "metadata": {
        "colab": {
          "base_uri": "https://localhost:8080/"
        },
        "id": "LVsYW5vKoZm7",
        "outputId": "faec1858-4b6b-4d8d-9b4b-46b657042d8e"
      },
      "execution_count": 5,
      "outputs": [
        {
          "output_type": "stream",
          "name": "stdout",
          "text": [
            "21\n"
          ]
        }
      ]
    },
    {
      "cell_type": "code",
      "source": [
        "#Matric Colum or row sum(to vector)\n",
        "\n",
        "A = np.array([[1,2,3],\n",
        "              [4,5,6]])\n",
        "\n",
        "row_sum = np.einsum(\"ij->i\",A)\n",
        "col_sum = np.einsum(\"ij->j\",A)\n",
        "print(row_sum)\n",
        "print()\n",
        "print(col_sum)"
      ],
      "metadata": {
        "colab": {
          "base_uri": "https://localhost:8080/"
        },
        "id": "c9kT88y0oZqA",
        "outputId": "8d372c41-d562-4ba5-dd1a-92775c564d8a"
      },
      "execution_count": 6,
      "outputs": [
        {
          "output_type": "stream",
          "name": "stdout",
          "text": [
            "[ 6 15]\n",
            "\n",
            "[5 7 9]\n"
          ]
        }
      ]
    },
    {
      "cell_type": "code",
      "source": [
        "#Dot Product,Outer Product of two vectors \n",
        "\n",
        "x = np.array([-1,-10,-100])\n",
        "y = np.array([1,10,100])\n",
        "\n",
        "dot = np.einsum(\"i,i->\",x,y)\n",
        "outer = np.einsum(\"i,j->ij\",x,y)\n",
        "\n",
        "print(dot)\n",
        "print()\n",
        "print(outer)\n"
      ],
      "metadata": {
        "colab": {
          "base_uri": "https://localhost:8080/"
        },
        "id": "8x67lYxbp3zJ",
        "outputId": "6cc1f203-fe46-4386-ec07-4c78372feeed"
      },
      "execution_count": 9,
      "outputs": [
        {
          "output_type": "stream",
          "name": "stdout",
          "text": [
            "-10101\n",
            "\n",
            "[[    -1    -10   -100]\n",
            " [   -10   -100  -1000]\n",
            " [  -100  -1000 -10000]]\n"
          ]
        }
      ]
    },
    {
      "cell_type": "code",
      "source": [
        "#Hadamard product of vector or matrix\n",
        "\n",
        "x = np.array([-1,-10,-100])\n",
        "y = np.array([1,10,100])\n",
        "print(np.einsum(\"i,i->i\",x,y))\n",
        "\n",
        "A = np.arange(6).reshape(2,3)\n",
        "B = np.arange(6).reshape(2,3)\n",
        "\n",
        "elemwise_mate = np.einsum(\"ij,ij->\",A,B)\n",
        "print(elemwise_mate)"
      ],
      "metadata": {
        "colab": {
          "base_uri": "https://localhost:8080/"
        },
        "id": "SVXmwEvFqu5F",
        "outputId": "c6ba168f-5e62-45fd-b0a9-c0e338292a1c"
      },
      "execution_count": 12,
      "outputs": [
        {
          "output_type": "stream",
          "name": "stdout",
          "text": [
            "[    -1   -100 -10000]\n",
            "55\n"
          ]
        }
      ]
    },
    {
      "cell_type": "code",
      "source": [
        "#Matrix-Vector Multiplication \n",
        "\n",
        "A = np.array([[1,2,3],\n",
        "              [4,5,6]])\n",
        "\n",
        "x = np.array([-1,-2,-100])\n",
        "\n",
        "b = np.einsum(\"ij,j->i\",A,x)\n",
        "\n",
        "print(b)"
      ],
      "metadata": {
        "colab": {
          "base_uri": "https://localhost:8080/"
        },
        "id": "AoTo9u7vrUxw",
        "outputId": "e37fbecb-aaa5-447e-9c77-41ec7c874ee6"
      },
      "execution_count": 13,
      "outputs": [
        {
          "output_type": "stream",
          "name": "stdout",
          "text": [
            "[-305 -614]\n"
          ]
        }
      ]
    },
    {
      "cell_type": "code",
      "source": [
        "#Matrix-Matrix Multiplication and Batched Matrix Muliplication\n",
        "A = np.array([[1,2,3],\n",
        "              [4,5,6]])\n",
        "\n",
        "B = A.transpose()\n",
        "\n",
        "R = np.einsum(\"ik,kj->ij\",A,B)\n",
        "print(R.shape)\n",
        "print()\n",
        "\n",
        "A = np.random.random(size=(3,10,4))\n",
        "B = np.random.random(size=(3,4,8))\n",
        "\n",
        "R = np.einsum(\"bik,bkj->bij\",A,B)\n",
        "print(R.shape)\n",
        "print()"
      ],
      "metadata": {
        "colab": {
          "base_uri": "https://localhost:8080/"
        },
        "id": "WG9g3yrCrqSZ",
        "outputId": "3040f6e7-e6d6-4e33-b347-415bdf092138"
      },
      "execution_count": 18,
      "outputs": [
        {
          "output_type": "stream",
          "name": "stdout",
          "text": [
            "(2, 2)\n",
            "\n",
            "(3, 10, 8)\n",
            "\n"
          ]
        }
      ]
    },
    {
      "cell_type": "code",
      "source": [
        "#Quadritc Form, Matric Norm, Distance with repect to Matric \n",
        "\n",
        "x = np.array([1,2,3])\n",
        "y = np.array([-1,-2,-3])\n",
        "A = np.random.random(size =(3,3))\n",
        "\n",
        "r = np.einsum(\"i,ij,j->\",x,A,y)\n",
        "print(r)"
      ],
      "metadata": {
        "colab": {
          "base_uri": "https://localhost:8080/"
        },
        "id": "3vLKYeeTsVFa",
        "outputId": "c995783c-873a-455c-ca9f-782107ab76a7"
      },
      "execution_count": 19,
      "outputs": [
        {
          "output_type": "stream",
          "name": "stdout",
          "text": [
            "-17.563032176080824\n"
          ]
        }
      ]
    }
  ]
}